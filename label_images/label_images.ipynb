{
 "cells": [
  {
   "cell_type": "markdown",
   "metadata": {},
   "source": [
    "- imports \n",
    "- load yolo model\n",
    "- go through images in images folder\n",
    "    - create a file containing the bounding box coorinates for that image\n",
    "    - file should contain the original image file name so we know which coordinate files belong to which image files\n",
    "        - contents of file should be something like (label x y width height) for yolov8\n",
    "        - label names should be gotten from image folder of the given champion or skin from that champion"
   ]
  },
  {
   "cell_type": "code",
   "execution_count": null,
   "metadata": {},
   "outputs": [],
   "source": [
    "from ultralyticsplus import YOLO, render_result\n",
    "from PIL import Image\n",
    "import requests\n",
    "from io import BytesIO"
   ]
  },
  {
   "cell_type": "code",
   "execution_count": null,
   "metadata": {},
   "outputs": [],
   "source": [
    "# load model\n",
    "model = YOLO('ultralyticsplus/yolov8s')\n",
    "\n",
    "# set model parameters\n",
    "model.overrides['conf'] = 0.25  # NMS confidence threshold\n",
    "model.overrides['iou'] = 0.45  # NMS IoU threshold\n",
    "model.overrides['agnostic_nms'] = False  # NMS class-agnostic\n",
    "model.overrides['max_det'] = 1000  # maximum number of detections per image"
   ]
  },
  {
   "cell_type": "code",
   "execution_count": null,
   "metadata": {},
   "outputs": [],
   "source": [
    "# set image\n",
    "image = 'https://cdn.discordapp.com/attachments/401257138699370498/1186077719503585410/Idle_var3.SKINS_Ahri_ASU_PrePro.anm_Idle_var3.SKINS_Ahri_ASU_PrePro.anm_Armature_frame1.png'\n",
    "\n",
    "# perform inference\n",
    "results = model.predict(image)"
   ]
  },
  {
   "cell_type": "code",
   "execution_count": null,
   "metadata": {},
   "outputs": [],
   "source": [
    "# observe results\n",
    "print(results[0].boxes)\n",
    "render = render_result(model=model, image=image, result=results[0])\n",
    "render"
   ]
  },
  {
   "cell_type": "code",
   "execution_count": null,
   "metadata": {},
   "outputs": [],
   "source": [
    "# set image\n",
    "image = 'https://cdn.discordapp.com/attachments/401257138699370498/1186113308110094416/Aatrox_Skin07_ULT_Taunt.anm_Aatrox_Skin07_ULT_Taunt.anm_Armature_frame1.png'\n",
    "\n",
    "# perform inference\n",
    "results = model.predict(image)\n",
    "\n",
    "# observe results\n",
    "print(results[0].boxes)\n",
    "render = render_result(model=model, image=image, result=results[0])\n",
    "render"
   ]
  },
  {
   "cell_type": "code",
   "execution_count": null,
   "metadata": {},
   "outputs": [],
   "source": [
    "boxes = results[0].boxes\n",
    "\n",
    "box=boxes[0]\n",
    "\n",
    "\n",
    "print(box.xyxy) # this is the coordinates of the bounding box in center of box x, y height width\n",
    "print(box.boxes)\n",
    "print(box.orig_shape)"
   ]
  },
  {
   "cell_type": "code",
   "execution_count": null,
   "metadata": {},
   "outputs": [],
   "source": [
    "# This is how you get the label name and label index from yolov8, however we wont be uing these labels we will fill in our own from the folder name where our images are stored\n",
    "# Observe results - get the first detection\n",
    "first_detection = results[0].boxes[0]\n",
    "print(first_detection)\n",
    "\n",
    "class_id = int(first_detection.cls) \n",
    "print(class_id)\n",
    "\n",
    "class_name = model.model.names[class_id]\n",
    "print(class_name)"
   ]
  }
 ],
 "metadata": {
  "language_info": {
   "name": "python"
  }
 },
 "nbformat": 4,
 "nbformat_minor": 2
}
