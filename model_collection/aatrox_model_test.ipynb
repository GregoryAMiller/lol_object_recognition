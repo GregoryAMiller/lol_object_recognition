{
 "cells": [
  {
   "cell_type": "code",
   "execution_count": 1,
   "metadata": {},
   "outputs": [],
   "source": [
    "import requests\n",
    "from pathlib import Path\n",
    "import os"
   ]
  },
  {
   "cell_type": "code",
   "execution_count": 2,
   "metadata": {},
   "outputs": [],
   "source": [
    "def download_aatrox_model(url, file_name):\n",
    "    \"\"\"\n",
    "    Download the 3D model of Aatrox from the given URL.\n",
    "\n",
    "    Args:\n",
    "    url (str): URL to download the Aatrox model.\n",
    "    file_name (str): Name of the file to save the model.\n",
    "    \"\"\"\n",
    "    try:\n",
    "        response = requests.get(url, stream=True)\n",
    "        response.raise_for_status()\n",
    "\n",
    "        with open(file_name, 'wb') as file:\n",
    "            for chunk in response.iter_content(chunk_size=1024):\n",
    "                file.write(chunk)\n",
    "        print(f\"Downloaded Aatrox model to {file_name}\")\n",
    "    except requests.exceptions.RequestException as e:\n",
    "        print(f\"Error during download: {e}\")"
   ]
  },
  {
   "cell_type": "code",
   "execution_count": 3,
   "metadata": {},
   "outputs": [
    {
     "name": "stdout",
     "output_type": "stream",
     "text": [
      "Error during download: 404 Client Error: Not Found for url: https://www.modelviewer.lol/path/to/aatrox/model\n"
     ]
    }
   ],
   "source": [
    "# URL of the Aatrox model - replace this with the actual URL\n",
    "aatrox_model_url = 'https://modelviewer.lol/path/to/aatrox/model'\n",
    "file_name = 'aatrox_model.glb'\n",
    "\n",
    "download_aatrox_model(aatrox_model_url, file_name)"
   ]
  }
 ],
 "metadata": {
  "kernelspec": {
   "display_name": "venv",
   "language": "python",
   "name": "python3"
  },
  "language_info": {
   "codemirror_mode": {
    "name": "ipython",
    "version": 3
   },
   "file_extension": ".py",
   "mimetype": "text/x-python",
   "name": "python",
   "nbconvert_exporter": "python",
   "pygments_lexer": "ipython3",
   "version": "3.10.0"
  }
 },
 "nbformat": 4,
 "nbformat_minor": 2
}
