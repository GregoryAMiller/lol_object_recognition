{
 "cells": [
  {
   "cell_type": "code",
   "execution_count": 1,
   "metadata": {},
   "outputs": [],
   "source": [
    "import requests\n",
    "import yaml"
   ]
  },
  {
   "cell_type": "code",
   "execution_count": 2,
   "metadata": {},
   "outputs": [],
   "source": [
    "# Function to fetch a list of champions from the modelviewer.lol API\n",
    "def get_champions_data():\n",
    "    api_url = \"https://www.modelviewer.lol/api/champions?language=default\"\n",
    "    response = requests.get(api_url)\n",
    "    if response.status_code == 200:\n",
    "        return response.json()  # Return the JSON response if the request is successful\n",
    "    else:\n",
    "        raise Exception(f\"Error fetching champions data: {response.status_code}\")  # Raise an exception if the request fails\n",
    "\n",
    "# Function to add skin data to each champion\n",
    "def add_skin_data(champions_data):\n",
    "    for champion in champions_data:  # Iterate over each champion in the list\n",
    "        # Construct API URL to get skins for each champion\n",
    "        api_url = f\"https://www.modelviewer.lol/api/skins?id={champion['id']}&language=default\"\n",
    "        response = requests.get(api_url)\n",
    "        if response.status_code == 200:\n",
    "            champion['skins_data'] = response.json()  # Add skin data to the champion's dictionary\n",
    "        else:\n",
    "            # Print an error message if fetching skin data fails\n",
    "            print(f\"Error fetching skin data for champion {champion['id']}\")\n",
    "\n",
    "    return champions_data  # Return the updated list of champions with skin data\n",
    "\n",
    "# Function to save the champions data with skins into a YAML file\n",
    "def save_champion_skin_mapping(champions_data, file_path='champion_skin_mapping.yaml'):\n",
    "    with open(file_path, 'w') as yaml_file:  # Open a file in write mode\n",
    "        yaml.dump(champions_data, yaml_file)  # Write the champions data to the file in YAML format\n",
    "\n",
    "# Main function to orchestrate the fetching and saving of champions data\n",
    "def main():\n",
    "    try:\n",
    "        champions_data = get_champions_data()  # Get the list of champions\n",
    "        champions_data_with_skins = add_skin_data(champions_data)  # Add skin data to each champion\n",
    "        save_champion_skin_mapping(champions_data_with_skins)  # Save the data into a YAML file\n",
    "        print(\"Champion data with skins saved to YAML file successfully.\")\n",
    "    except Exception as e:  # Catch any exceptions that occur during the process\n",
    "        print(f\"An error occurred: {e}\")  # Print the error message\n"
   ]
  },
  {
   "cell_type": "code",
   "execution_count": 3,
   "metadata": {},
   "outputs": [
    {
     "name": "stdout",
     "output_type": "stream",
     "text": [
      "Champion data with skins saved to YAML file successfully.\n"
     ]
    }
   ],
   "source": [
    "if __name__ == \"__main__\":\n",
    "    main()"
   ]
  }
 ],
 "metadata": {
  "kernelspec": {
   "display_name": "Python 3",
   "language": "python",
   "name": "python3"
  },
  "language_info": {
   "codemirror_mode": {
    "name": "ipython",
    "version": 3
   },
   "file_extension": ".py",
   "mimetype": "text/x-python",
   "name": "python",
   "nbconvert_exporter": "python",
   "pygments_lexer": "ipython3",
   "version": "3.10.0"
  }
 },
 "nbformat": 4,
 "nbformat_minor": 2
}
