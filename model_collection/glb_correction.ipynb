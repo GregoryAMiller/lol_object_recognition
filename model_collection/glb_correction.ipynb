{
 "cells": [
  {
   "cell_type": "markdown",
   "metadata": {},
   "source": [
    "# THIS FILE WORKS BUT DOESNT ACTUALLY FIX GLB FILES \n",
    "- You will need to change directories for the glb files if you wish to try and run this code"
   ]
  },
  {
   "cell_type": "code",
   "execution_count": 2,
   "metadata": {},
   "outputs": [],
   "source": [
    "from pygltflib import GLTF2, BufferFormat"
   ]
  },
  {
   "cell_type": "code",
   "execution_count": 5,
   "metadata": {},
   "outputs": [
    {
     "name": "stdout",
     "output_type": "stream",
     "text": [
      "Loading GLB file from: C:/Users/Grego\\Desktop/league_object_detection_tracking/models/Aatrox/Aatrox/Aatrox.glb\n",
      "Checking for EXT_meshopt_compression extension...\n",
      "Updated extensionsUsed: ['KHR_mesh_quantization', 'KHR_texture_transform', 'KHR_materials_unlit']\n",
      "Updated extensionsRequired: ['KHR_mesh_quantization']\n",
      "Saving modified GLB file to: C:/Users/Grego\\Desktop/league_object_detection_tracking/models/Aatrox/Aatrox/corrected_aatrox.glb\n",
      "File saved successfully.\n"
     ]
    }
   ],
   "source": [
    "# Load the GLB file\n",
    "glb_file_path = r'C:/Users/Grego/Desktop/league_object_detection_tracking/models/Aatrox/Aatrox/Aatrox.glb'\n",
    "print(f\"Loading GLB file from: {glb_file_path}\")\n",
    "gltf = GLTF2().load(glb_file_path)\n",
    "\n",
    "# Remove references to EXT_meshopt_compression\n",
    "print(\"Checking for EXT_meshopt_compression extension...\")\n",
    "if gltf.extensionsUsed:\n",
    "    gltf.extensionsUsed = [ext for ext in gltf.extensionsUsed if ext != 'EXT_meshopt_compression']\n",
    "    print(f\"Updated extensionsUsed: {gltf.extensionsUsed}\")\n",
    "if gltf.extensionsRequired:\n",
    "    gltf.extensionsRequired = [ext for ext in gltf.extensionsRequired if ext != 'EXT_meshopt_compression']\n",
    "    print(f\"Updated extensionsRequired: {gltf.extensionsRequired}\")\n",
    "\n",
    "# Note: You might need to inspect and modify specific parts of the GLTF structure\n",
    "# such as meshes, buffers, etc., that might reference EXT_meshopt_compression\n",
    "\n",
    "# Save the modified file\n",
    "output_path = r'C:/Users/Grego/Desktop/league_object_detection_tracking/models/Aatrox/Aatrox/corrected_aatrox.glb'\n",
    "print(f\"Saving modified GLB file to: {output_path}\")\n",
    "gltf.save(output_path)\n",
    "print(\"File saved successfully.\")"
   ]
  }
 ],
 "metadata": {
  "kernelspec": {
   "display_name": "venv",
   "language": "python",
   "name": "python3"
  },
  "language_info": {
   "codemirror_mode": {
    "name": "ipython",
    "version": 3
   },
   "file_extension": ".py",
   "mimetype": "text/x-python",
   "name": "python",
   "nbconvert_exporter": "python",
   "pygments_lexer": "ipython3",
   "version": "3.10.0"
  }
 },
 "nbformat": 4,
 "nbformat_minor": 2
}
